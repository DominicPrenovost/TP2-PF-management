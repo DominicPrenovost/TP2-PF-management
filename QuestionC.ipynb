{
 "cells": [
  {
   "cell_type": "code",
   "execution_count": 2,
   "metadata": {},
   "outputs": [],
   "source": [
    "import pandas as pd\n",
    "import numpy as np\n",
    "from datetime import datetime\n",
    "from scipy.optimize import minimize\n",
    "from sklearn.preprocessing import StandardScaler"
   ]
  },
  {
   "cell_type": "code",
   "execution_count": 3,
   "metadata": {},
   "outputs": [],
   "source": [
    "df = pd.read_csv('/Users/dominicprenovost/Programmation/TP2-PF-management/48_Industry_Portfolios.CSV', header=6)\n",
    "df = df.rename(columns={'Unnamed: 0': 'Date'})\n",
    "\n",
    "df_48ind = df.iloc[:1171].copy()\n",
    "df_48ind['Date'] = pd.to_datetime(df_48ind['Date'], format='%Y%m')\n",
    "df_48ind.set_index('Date', inplace=True)\n",
    "df_48ind = df_48ind.apply(pd.to_numeric, errors='coerce')\n",
    "\n",
    "df_numfirm = df.iloc[2564-20:3735-20].copy()\n",
    "df_numfirm['Date'] = pd.to_datetime(df_numfirm['Date'], format='%Y%m')\n",
    "df_numfirm.set_index('Date', inplace=True)\n",
    "df_numfirm = df_numfirm.apply(pd.to_numeric, errors='coerce')\n",
    "\n",
    "df_avgsize = df.iloc[3739-22:4910-22].copy()\n",
    "df_avgsize['Date'] = pd.to_datetime(df_avgsize['Date'], format='%Y%m')\n",
    "df_avgsize.set_index('Date', inplace=True)\n",
    "df_avgsize = df_avgsize.apply(pd.to_numeric, errors='coerce')\n"
   ]
  },
  {
   "cell_type": "markdown",
   "metadata": {},
   "source": [
    "## 1) La capitalisation boursière en tant que taille moyenne de l'entreprise x nombre d'entreprises"
   ]
  },
  {
   "cell_type": "code",
   "execution_count": 31,
   "metadata": {},
   "outputs": [],
   "source": [
    "market_cap = df_numfirm.multiply(df_avgsize, axis=0)"
   ]
  },
  {
   "cell_type": "markdown",
   "metadata": {},
   "source": [
    "## 2) Le rapport entre la valeur comptable (BE : book equity) et la valeur de marché (ME : market equity), c'est-à-dire le rapport book-to-market, en utilisant les données \"Sum of BE / Sum of ME\".\n",
    "\n",
    "### (Remarque : les données \"Somme de BE / Somme de ME\" sont annuelles et doivent être converties en données mensuelles en supposant que le ratio reste constant entre juillet de l'année s et juin de l'année s + 1. Par exemple, le ratio de 1926 est le ratio qui doit être utilisé pour la période allant de juillet 1926 à juin 1927)."
   ]
  },
  {
   "cell_type": "code",
   "execution_count": 22,
   "metadata": {},
   "outputs": [],
   "source": [
    "df_BtoM = df.iloc[4890:4988].copy()\n",
    "df_BtoM = df_BtoM.apply(pd.to_numeric, errors='coerce')\n",
    "\n",
    "df_BtoM = df_BtoM.loc[df_BtoM.index.repeat(12)].reset_index(drop=True)\n",
    "\n",
    "df_BtoM['Date'] = pd.to_datetime(df_BtoM['Date'], format='%Y')\n",
    "\n",
    "df_BtoM = df_BtoM.drop('Date', axis=1)\n",
    "\n",
    "df_BtoM = pd.DataFrame(data = df_BtoM.iloc[5:].values, index = df_48ind.index, columns = df_48ind.columns)\n",
    "\n",
    "df_BtoM.replace(-99.99, np.nan, inplace = True)\n",
    "df_BtoM.replace(-999, np.nan, inplace = True)\n",
    "df_BtoM.dropna(inplace = True)"
   ]
  },
  {
   "cell_type": "markdown",
   "metadata": {},
   "source": [
    "## 3) Le momentum de chaque industrie est le rendement moyen de cette industrie au cours des 12 derniers mois, y compris le mois t."
   ]
  },
  {
   "cell_type": "code",
   "execution_count": 6,
   "metadata": {},
   "outputs": [],
   "source": [
    "# Calculer la moyenne mobile sur 12 mois pour chaque industrie\n",
    "df_mom = df_48ind.rolling(window=12).mean()\n",
    "\n",
    "df_mom.replace(-99.99, np.nan, inplace = True)\n",
    "df_mom.replace(-999, np.nan, inplace = True)\n",
    "df_mom.dropna(inplace = True)"
   ]
  },
  {
   "cell_type": "markdown",
   "metadata": {},
   "source": [
    "## Pour chaque mois t, standardiser chaque caractéristique de manière transversale pour avoir une moyenne nulle et un écart-type unitaire pour toutes les actions à la date t, comme expliqué dans Brandt et al. (2009)."
   ]
  },
  {
   "cell_type": "code",
   "execution_count": 7,
   "metadata": {},
   "outputs": [],
   "source": [
    "# Créer un objet StandardScaler\n",
    "scaler = StandardScaler()\n",
    "\n",
    "def standardize(df):\n",
    "    # Standardiser les données\n",
    "    df_scaled = scaler.fit_transform(df)\n",
    "    \n",
    "    df_standardized = pd.DataFrame(df_scaled, columns=df.columns, index=df.index)\n",
    "    \n",
    "    return df_standardized"
   ]
  },
  {
   "cell_type": "code",
   "execution_count": null,
   "metadata": {},
   "outputs": [],
   "source": [
    "# Divisez chaque market cap par la somme totale correspondante\n",
    "market_weights = market_cap.div(market_cap.sum(axis=1), axis=0)\n",
    "\n",
    "standardized_market_caps = standardize(market_cap)\n",
    "standardized_BtoM = standardize(df_BtoM)\n",
    "standardized_mom = standardize(df_mom)\n",
    "\n",
    "\n",
    "optimal_weights = market_weights + (1 / len(market_weights.columns)) * (theta1 * standardized_market_caps + theta2 * standardized_BtoM + theta3 * standardized_mom)"
   ]
  }
 ],
 "metadata": {
  "kernelspec": {
   "display_name": "HECFinance",
   "language": "python",
   "name": "python3"
  },
  "language_info": {
   "codemirror_mode": {
    "name": "ipython",
    "version": 3
   },
   "file_extension": ".py",
   "mimetype": "text/x-python",
   "name": "python",
   "nbconvert_exporter": "python",
   "pygments_lexer": "ipython3",
   "version": "3.11.4"
  }
 },
 "nbformat": 4,
 "nbformat_minor": 2
}
