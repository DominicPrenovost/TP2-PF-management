{
 "cells": [
  {
   "cell_type": "code",
   "execution_count": 2,
   "metadata": {},
   "outputs": [],
   "source": [
    "import pandas as pd\n",
    "import numpy as np\n",
    "from datetime import datetime\n",
    "from scipy.optimize import minimize\n",
    "from sklearn.preprocessing import StandardScaler"
   ]
  },
  {
   "cell_type": "code",
   "execution_count": 3,
   "metadata": {},
   "outputs": [],
   "source": [
    "df = pd.read_csv('/Users/dominicprenovost/Programmation/TP2-PF-management/48_Industry_Portfolios.CSV', header=6)\n",
    "df = df.rename(columns={'Unnamed: 0': 'Date'})\n",
    "\n",
    "df_48ind = df.iloc[:1171].copy()\n",
    "df_48ind['Date'] = pd.to_datetime(df_48ind['Date'], format='%Y%m')\n",
    "df_48ind.set_index('Date', inplace=True)\n",
    "df_48ind = df_48ind.apply(pd.to_numeric, errors='coerce')\n",
    "\n",
    "df_numfirm = df.iloc[2564-20:3735-20].copy()\n",
    "df_numfirm['Date'] = pd.to_datetime(df_numfirm['Date'], format='%Y%m')\n",
    "df_numfirm.set_index('Date', inplace=True)\n",
    "df_numfirm = df_numfirm.apply(pd.to_numeric, errors='coerce')\n",
    "\n",
    "df_avgsize = df.iloc[3739-22:4910-22].copy()\n",
    "df_avgsize['Date'] = pd.to_datetime(df_avgsize['Date'], format='%Y%m')\n",
    "df_avgsize.set_index('Date', inplace=True)\n",
    "df_avgsize = df_avgsize.apply(pd.to_numeric, errors='coerce')\n"
   ]
  },
  {
   "cell_type": "markdown",
   "metadata": {},
   "source": [
    "## 1) La capitalisation boursière en tant que taille moyenne de l'entreprise x nombre d'entreprises"
   ]
  },
  {
   "cell_type": "code",
   "execution_count": 31,
   "metadata": {},
   "outputs": [],
   "source": [
    "market_cap = df_numfirm.multiply(df_avgsize, axis=0)"
   ]
  },
  {
   "cell_type": "markdown",
   "metadata": {},
   "source": [
    "## 2) Le rapport entre la valeur comptable (BE : book equity) et la valeur de marché (ME : market equity), c'est-à-dire le rapport book-to-market, en utilisant les données \"Sum of BE / Sum of ME\".\n",
    "\n",
    "### (Remarque : les données \"Somme de BE / Somme de ME\" sont annuelles et doivent être converties en données mensuelles en supposant que le ratio reste constant entre juillet de l'année s et juin de l'année s + 1. Par exemple, le ratio de 1926 est le ratio qui doit être utilisé pour la période allant de juillet 1926 à juin 1927)."
   ]
  },
  {
   "cell_type": "code",
   "execution_count": 22,
   "metadata": {},
   "outputs": [],
   "source": [
    "df_BtoM = df.iloc[4890:4988].copy()\n",
    "df_BtoM = df_BtoM.apply(pd.to_numeric, errors='coerce')\n",
    "\n",
    "df_BtoM = df_BtoM.loc[df_BtoM.index.repeat(12)].reset_index(drop=True)\n",
    "\n",
    "df_BtoM['Date'] = pd.to_datetime(df_BtoM['Date'], format='%Y')\n",
    "\n",
    "df_BtoM = df_BtoM.drop('Date', axis=1)\n",
    "\n",
    "df_BtoM = pd.DataFrame(data = df_BtoM.iloc[5:].values, index = df_48ind.index, columns = df_48ind.columns)\n",
    "\n",
    "df_BtoM.replace(-99.99, np.nan, inplace = True)\n",
    "df_BtoM.replace(-999, np.nan, inplace = True)\n",
    "df_BtoM.dropna(inplace = True)"
   ]
  },
  {
   "cell_type": "markdown",
   "metadata": {},
   "source": [
    "## 3) Le momentum de chaque industrie est le rendement moyen de cette industrie au cours des 12 derniers mois, y compris le mois t."
   ]
  },
  {
   "cell_type": "code",
   "execution_count": 6,
   "metadata": {},
   "outputs": [],
   "source": [
    "# Calculer la moyenne mobile sur 12 mois pour chaque industrie\n",
    "df_mom = df_48ind.rolling(window=12).mean()\n",
    "\n",
    "df_mom.replace(-99.99, np.nan, inplace = True)\n",
    "df_mom.replace(-999, np.nan, inplace = True)\n",
    "df_mom.dropna(inplace = True)"
   ]
  },
  {
   "cell_type": "markdown",
   "metadata": {},
   "source": [
    "## Pour chaque mois t, standardiser chaque caractéristique de manière transversale pour avoir une moyenne nulle et un écart-type unitaire pour toutes les actions à la date t, comme expliqué dans Brandt et al. (2009)."
   ]
  },
  {
   "cell_type": "code",
   "execution_count": 7,
   "metadata": {},
   "outputs": [],
   "source": [
    "# Créer un objet StandardScaler\n",
    "scaler = StandardScaler()\n",
    "\n",
    "def standardize(df):\n",
    "    # Standardiser les données\n",
    "    df_scaled = scaler.fit_transform(df)\n",
    "    \n",
    "    df_standardized = pd.DataFrame(df_scaled, columns=df.columns, index=df.index)\n",
    "    \n",
    "    return df_standardized"
   ]
  },
  {
   "cell_type": "code",
   "execution_count": null,
   "metadata": {},
   "outputs": [],
   "source": [
    "# Divisez chaque market cap par la somme totale correspondante\n",
    "market_weights = market_cap.div(market_cap.sum(axis=1), axis=0)\n",
    "\n",
    "standardized_market_caps = standardize(market_cap)\n",
    "standardized_BtoM = standardize(df_BtoM)\n",
    "standardized_mom = standardize(df_mom)\n",
    "\n",
    "\n",
    "optimal_weights = market_weights + (1 / len(market_weights.columns)) * (theta1 * standardized_market_caps + theta2 * standardized_BtoM + theta3 * standardized_mom)"
   ]
  },
  {
   "cell_type": "code",
   "execution_count": null,
   "metadata": {},
   "outputs": [],
   "source": [
    "\n",
    "# Calculer la fonction à maximiser\n",
    "# Vous pouvez remplacer les opérations par votre propre formule\n",
    "function_to_maximize = (1/T) * np.sum(u * np.sum(wi_t + (1/N) * (ß_MC + ß_BM + ß_MOM)) * (1 + r))\n",
    "\n",
    "# Afficher le résultat\n",
    "print(\"Fonction à maximiser :\", function_to_maximize)\n"
   ]
  },
  {
   "cell_type": "code",
   "execution_count": 36,
   "metadata": {},
   "outputs": [
    {
     "name": "stdout",
     "output_type": "stream",
     "text": [
      "Coefficients β optimaux : [-1.2363585  -0.66563084  0.25060789]\n",
      "Valeur maximisée de la fonction : 64.04262868407247\n"
     ]
    },
    {
     "name": "stderr",
     "output_type": "stream",
     "text": [
      "/var/folders/ns/nlrkcsjd7j70p9jvf2jl5t4c0000gn/T/ipykernel_1717/214687108.py:5: RuntimeWarning: invalid value encountered in scalar power\n",
      "  return (x ** (1 - gamma) - 1) / (1 - gamma)\n"
     ]
    }
   ],
   "source": [
    "import numpy as np\n",
    "from scipy.optimize import minimize\n",
    "\n",
    "def u(x, gamma):\n",
    "    return (x ** (1 - gamma) - 1) / (1 - gamma)\n",
    "\n",
    "# Fonction à maximiser\n",
    "def function_to_maximize(beta, MC, BM, MOM, r, T, N, gamma):\n",
    "    wi_t = np.random.rand(N) # Supposons que vous avez une fonction pour calculer wi_t\n",
    "    return -(1/T) * np.sum(u(np.sum(wi_t + (1/N) * (beta[0] * MC + beta[1] * BM + beta[2] * MOM)), gamma) * (1 + r))\n",
    "\n",
    "# Données\n",
    "T = 100  # Nombre d'observations\n",
    "N = 10   # Nombre d'actifs\n",
    "MC = np.random.rand(T, N)  # Exemple de données de market cap\n",
    "BM = np.random.rand(T, N)  # Exemple de données de book-to-market ratio\n",
    "MOM = np.random.rand(T, N) # Exemple de données de momentum\n",
    "r = np.random.rand(T)       # Exemple de données de rendement\n",
    "gamma = 0.5  # Paramètre de la fonction d'utilité CRRA\n",
    "\n",
    "# Initialisation des coefficients beta\n",
    "initial_beta = np.array([0.5, 0.5, 0.5])\n",
    "\n",
    "# Optimisation des coefficients beta\n",
    "result = minimize(function_to_maximize, initial_beta, args=(MC, BM, MOM, r, T, N, gamma), method='SLSQP')\n",
    "\n",
    "# Résultats\n",
    "optimal_beta = result.x\n",
    "maximized_value = -result.fun\n",
    "\n",
    "print(\"Coefficients β optimaux :\", optimal_beta)\n",
    "print(\"Valeur maximisée de la fonction :\", maximized_value)\n"
   ]
  }
 ],
 "metadata": {
  "kernelspec": {
   "display_name": "HECFinance",
   "language": "python",
   "name": "python3"
  },
  "language_info": {
   "codemirror_mode": {
    "name": "ipython",
    "version": 3
   },
   "file_extension": ".py",
   "mimetype": "text/x-python",
   "name": "python",
   "nbconvert_exporter": "python",
   "pygments_lexer": "ipython3",
   "version": "3.11.4"
  }
 },
 "nbformat": 4,
 "nbformat_minor": 2
}
