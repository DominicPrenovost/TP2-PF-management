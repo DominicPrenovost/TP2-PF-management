{
 "cells": [
  {
   "cell_type": "code",
   "execution_count": 1,
   "metadata": {},
   "outputs": [],
   "source": [
    "import pandas as pd\n",
    "import numpy as np\n",
    "from datetime import datetime\n",
    "from scipy.optimize import minimize\n",
    "from sklearn.preprocessing import StandardScaler\n",
    "from sklearn.linear_model import LinearRegression\n",
    "import statsmodels.api as sm"
   ]
  },
  {
   "cell_type": "code",
   "execution_count": 2,
   "metadata": {},
   "outputs": [
    {
     "data": {
      "text/html": [
       "<div>\n",
       "<style scoped>\n",
       "    .dataframe tbody tr th:only-of-type {\n",
       "        vertical-align: middle;\n",
       "    }\n",
       "\n",
       "    .dataframe tbody tr th {\n",
       "        vertical-align: top;\n",
       "    }\n",
       "\n",
       "    .dataframe thead th {\n",
       "        text-align: right;\n",
       "    }\n",
       "</style>\n",
       "<table border=\"1\" class=\"dataframe\">\n",
       "  <thead>\n",
       "    <tr style=\"text-align: right;\">\n",
       "      <th></th>\n",
       "      <th>Period End Date, as Reported</th>\n",
       "      <th>Name of the Security Held</th>\n",
       "      <th>Sum of Security's Percentage of the Total Net Assets</th>\n",
       "      <th>Returns</th>\n",
       "    </tr>\n",
       "  </thead>\n",
       "  <tbody>\n",
       "    <tr>\n",
       "      <th>0</th>\n",
       "      <td>2023-11-30</td>\n",
       "      <td>A S M L HOLDING N V</td>\n",
       "      <td>4.179996</td>\n",
       "      <td>0.144736</td>\n",
       "    </tr>\n",
       "    <tr>\n",
       "      <th>1</th>\n",
       "      <td>2023-11-30</td>\n",
       "      <td>BROADCOM INC</td>\n",
       "      <td>4.739998</td>\n",
       "      <td>0.100265</td>\n",
       "    </tr>\n",
       "    <tr>\n",
       "      <th>2</th>\n",
       "      <td>2023-11-30</td>\n",
       "      <td>GLOBALFOUNDRIES INC</td>\n",
       "      <td>5.199997</td>\n",
       "      <td>0.082023</td>\n",
       "    </tr>\n",
       "    <tr>\n",
       "      <th>3</th>\n",
       "      <td>2023-11-30</td>\n",
       "      <td>LAM RESH CORP</td>\n",
       "      <td>4.029999</td>\n",
       "      <td>0.217096</td>\n",
       "    </tr>\n",
       "    <tr>\n",
       "      <th>4</th>\n",
       "      <td>2023-11-30</td>\n",
       "      <td>MARVELL TECHNOLOGY INC</td>\n",
       "      <td>7.139999</td>\n",
       "      <td>0.180220</td>\n",
       "    </tr>\n",
       "  </tbody>\n",
       "</table>\n",
       "</div>"
      ],
      "text/plain": [
       "  Period End Date, as Reported Name of the Security Held  \\\n",
       "0                   2023-11-30       A S M L HOLDING N V   \n",
       "1                   2023-11-30              BROADCOM INC   \n",
       "2                   2023-11-30       GLOBALFOUNDRIES INC   \n",
       "3                   2023-11-30             LAM RESH CORP   \n",
       "4                   2023-11-30    MARVELL TECHNOLOGY INC   \n",
       "\n",
       "   Sum of Security's Percentage of the Total Net Assets   Returns  \n",
       "0                                           4.179996     0.144736  \n",
       "1                                           4.739998     0.100265  \n",
       "2                                           5.199997     0.082023  \n",
       "3                                           4.029999     0.217096  \n",
       "4                                           7.139999     0.180220  "
      ]
     },
     "execution_count": 2,
     "metadata": {},
     "output_type": "execute_result"
    }
   ],
   "source": [
    "# Utilisez la fonction read_excel() pour importer le fichier\n",
    "df = pd.read_excel(\"/Users/dominicprenovost/Programmation/TP2-PF-management/data_tp3.xlsx\")\n",
    "\n",
    "df.head()\n"
   ]
  },
  {
   "cell_type": "code",
   "execution_count": 3,
   "metadata": {},
   "outputs": [],
   "source": [
    "df['Weighted_Return'] = df.groupby('Name of the Security Held')['Sum of Security\\'s Percentage of the Total Net Assets'].diff(periods=-1) * df['Returns']\n"
   ]
  },
  {
   "cell_type": "code",
   "execution_count": 5,
   "metadata": {},
   "outputs": [
    {
     "data": {
      "text/plain": [
       "Period End Date\n",
       "2018   -0.762448\n",
       "2019   -0.113100\n",
       "2020    4.188909\n",
       "2021    4.635169\n",
       "2022    5.151262\n",
       "2023    3.792985\n",
       "Freq: A-DEC, Name: Weighted_Return, dtype: float64"
      ]
     },
     "execution_count": 5,
     "metadata": {},
     "output_type": "execute_result"
    }
   ],
   "source": [
    "# Conversion de la colonne 'Period End Date' en datetime\n",
    "df['Period End Date'] = pd.to_datetime(df['Period End Date, as Reported'])\n",
    "\n",
    "# Calcul de GTt\n",
    "df['Weighted_Return'] = df.groupby('Name of the Security Held')['Sum of Security\\'s Percentage of the Total Net Assets'].diff(periods=-1) * df['Returns']\n",
    "\n",
    "# Somme mensuelle des GTt\n",
    "monthly_GTt = df.groupby(df['Period End Date'].dt.to_period('Y'))['Weighted_Return'].sum()\n",
    "\n",
    "monthly_GTt"
   ]
  },
  {
   "cell_type": "code",
   "execution_count": 6,
   "metadata": {},
   "outputs": [
    {
     "data": {
      "text/html": [
       "<div>\n",
       "<style scoped>\n",
       "    .dataframe tbody tr th:only-of-type {\n",
       "        vertical-align: middle;\n",
       "    }\n",
       "\n",
       "    .dataframe tbody tr th {\n",
       "        vertical-align: top;\n",
       "    }\n",
       "\n",
       "    .dataframe thead th {\n",
       "        text-align: right;\n",
       "    }\n",
       "</style>\n",
       "<table border=\"1\" class=\"dataframe\">\n",
       "  <thead>\n",
       "    <tr style=\"text-align: right;\">\n",
       "      <th></th>\n",
       "      <th>Weighted_Return</th>\n",
       "    </tr>\n",
       "    <tr>\n",
       "      <th>Period End Date, as Reported</th>\n",
       "      <th></th>\n",
       "    </tr>\n",
       "  </thead>\n",
       "  <tbody>\n",
       "    <tr>\n",
       "      <th>2018</th>\n",
       "      <td>-0.762448</td>\n",
       "    </tr>\n",
       "    <tr>\n",
       "      <th>2019</th>\n",
       "      <td>-0.113100</td>\n",
       "    </tr>\n",
       "    <tr>\n",
       "      <th>2020</th>\n",
       "      <td>4.188909</td>\n",
       "    </tr>\n",
       "    <tr>\n",
       "      <th>2021</th>\n",
       "      <td>4.635169</td>\n",
       "    </tr>\n",
       "    <tr>\n",
       "      <th>2022</th>\n",
       "      <td>5.151262</td>\n",
       "    </tr>\n",
       "    <tr>\n",
       "      <th>2023</th>\n",
       "      <td>3.792985</td>\n",
       "    </tr>\n",
       "  </tbody>\n",
       "</table>\n",
       "</div>"
      ],
      "text/plain": [
       "                                Weighted_Return\n",
       "\\tPeriod End Date, as Reported                 \n",
       "2018                                  -0.762448\n",
       "2019                                  -0.113100\n",
       "2020                                   4.188909\n",
       "2021                                   4.635169\n",
       "2022                                   5.151262\n",
       "2023                                   3.792985"
      ]
     },
     "execution_count": 6,
     "metadata": {},
     "output_type": "execute_result"
    }
   ],
   "source": [
    "# Création du DataFrame avec monthly_GTt et Period End Date en index\n",
    "monthly_GTt_df = pd.DataFrame(monthly_GTt)\n",
    "monthly_GTt_df.index.name = '\tPeriod End Date, as Reported'\n",
    "\n",
    "monthly_GTt_df\n"
   ]
  },
  {
   "cell_type": "code",
   "execution_count": 7,
   "metadata": {},
   "outputs": [
    {
     "name": "stdout",
     "output_type": "stream",
     "text": [
      "Le DataFrame a été exporté vers Excel avec succès.\n"
     ]
    }
   ],
   "source": [
    "# Spécifiez le chemin et le nom de fichier pour sauvegarder le DataFrame au format Excel\n",
    "chemin_excel = \"chemin_vers_votre_fichier.xlsx\"\n",
    "\n",
    "# Utilisez la méthode to_excel() pour exporter le DataFrame vers un fichier Excel\n",
    "monthly_GTt_df.to_excel('/Users/dominicprenovost/Programmation/TP2-PF-management/Tp3.xlsx')\n",
    "\n",
    "print(\"Le DataFrame a été exporté vers Excel avec succès.\")\n"
   ]
  },
  {
   "cell_type": "code",
   "execution_count": null,
   "metadata": {},
   "outputs": [],
   "source": []
  }
 ],
 "metadata": {
  "kernelspec": {
   "display_name": "HECFinance",
   "language": "python",
   "name": "python3"
  },
  "language_info": {
   "codemirror_mode": {
    "name": "ipython",
    "version": 3
   },
   "file_extension": ".py",
   "mimetype": "text/x-python",
   "name": "python",
   "nbconvert_exporter": "python",
   "pygments_lexer": "ipython3",
   "version": "3.11.4"
  }
 },
 "nbformat": 4,
 "nbformat_minor": 2
}
