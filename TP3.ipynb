{
 "cells": [
  {
   "cell_type": "code",
   "execution_count": null,
   "metadata": {},
   "outputs": [],
   "source": [
    "import pandas as pd\n",
    "import numpy as np\n",
    "from datetime import datetime\n",
    "from scipy.optimize import minimize\n",
    "from sklearn.preprocessing import StandardScaler\n",
    "from sklearn.linear_model import LinearRegression\n",
    "import statsmodels.api as sm"
   ]
  },
  {
   "cell_type": "code",
   "execution_count": 6,
   "metadata": {},
   "outputs": [
    {
     "data": {
      "text/html": [
       "<div>\n",
       "<style scoped>\n",
       "    .dataframe tbody tr th:only-of-type {\n",
       "        vertical-align: middle;\n",
       "    }\n",
       "\n",
       "    .dataframe tbody tr th {\n",
       "        vertical-align: top;\n",
       "    }\n",
       "\n",
       "    .dataframe thead th {\n",
       "        text-align: right;\n",
       "    }\n",
       "</style>\n",
       "<table border=\"1\" class=\"dataframe\">\n",
       "  <thead>\n",
       "    <tr style=\"text-align: right;\">\n",
       "      <th></th>\n",
       "      <th>Period End Date, as Reported</th>\n",
       "      <th>Name of the Security Held</th>\n",
       "      <th>Sum of Security's Percentage of the Total Net Assets</th>\n",
       "      <th>Returns</th>\n",
       "    </tr>\n",
       "  </thead>\n",
       "  <tbody>\n",
       "    <tr>\n",
       "      <th>0</th>\n",
       "      <td>2022-01-31</td>\n",
       "      <td>XILINX INC</td>\n",
       "      <td>3.160000</td>\n",
       "      <td>-0.206046</td>\n",
       "    </tr>\n",
       "    <tr>\n",
       "      <th>1</th>\n",
       "      <td>2020-12-31</td>\n",
       "      <td>XILINX INC</td>\n",
       "      <td>4.639999</td>\n",
       "      <td>-0.010253</td>\n",
       "    </tr>\n",
       "    <tr>\n",
       "      <th>2</th>\n",
       "      <td>2020-11-30</td>\n",
       "      <td>XILINX INC</td>\n",
       "      <td>5.059998</td>\n",
       "      <td>0.230708</td>\n",
       "    </tr>\n",
       "    <tr>\n",
       "      <th>3</th>\n",
       "      <td>2020-10-31</td>\n",
       "      <td>XILINX INC</td>\n",
       "      <td>4.849998</td>\n",
       "      <td>-0.081717</td>\n",
       "    </tr>\n",
       "    <tr>\n",
       "      <th>4</th>\n",
       "      <td>2020-06-30</td>\n",
       "      <td>XILINX INC</td>\n",
       "      <td>3.830000</td>\n",
       "      <td>-0.022119</td>\n",
       "    </tr>\n",
       "  </tbody>\n",
       "</table>\n",
       "</div>"
      ],
      "text/plain": [
       "  Period End Date, as Reported Name of the Security Held  \\\n",
       "0                   2022-01-31                XILINX INC   \n",
       "1                   2020-12-31                XILINX INC   \n",
       "2                   2020-11-30                XILINX INC   \n",
       "3                   2020-10-31                XILINX INC   \n",
       "4                   2020-06-30                XILINX INC   \n",
       "\n",
       "   Sum of Security's Percentage of the Total Net Assets   Returns  \n",
       "0                                           3.160000    -0.206046  \n",
       "1                                           4.639999    -0.010253  \n",
       "2                                           5.059998     0.230708  \n",
       "3                                           4.849998    -0.081717  \n",
       "4                                           3.830000    -0.022119  "
      ]
     },
     "execution_count": 6,
     "metadata": {},
     "output_type": "execute_result"
    }
   ],
   "source": [
    "import pandas as pd\n",
    "\n",
    "# Spécifiez le chemin vers votre fichier Excel\n",
    "chemin_fichier = \"/Users/dominicprenovost/Programmation/TP2-PF-management/Tp3.xlsx\"\n",
    "\n",
    "# Utilisez la fonction read_excel() pour importer le fichier\n",
    "df = pd.read_excel(chemin_fichier)\n",
    "\n",
    "df.head()\n"
   ]
  },
  {
   "cell_type": "code",
   "execution_count": 11,
   "metadata": {},
   "outputs": [
    {
     "data": {
      "text/plain": [
       "Period End Date\n",
       "2018-01    0.168122\n",
       "2018-02   -0.188968\n",
       "2018-03    0.297433\n",
       "2018-04    0.329593\n",
       "2018-05   -0.192429\n",
       "             ...   \n",
       "2023-07   -0.099398\n",
       "2023-08    0.390620\n",
       "2023-09    0.180026\n",
       "2023-10    0.242719\n",
       "2023-11    0.000000\n",
       "Freq: M, Name: Weighted_Return, Length: 71, dtype: float64"
      ]
     },
     "execution_count": 11,
     "metadata": {},
     "output_type": "execute_result"
    }
   ],
   "source": [
    "# Conversion de la colonne 'Period End Date' en datetime\n",
    "df['Period End Date'] = pd.to_datetime(df['Period End Date, as Reported'])\n",
    "\n",
    "# Calcul de GTt\n",
    "df['Weighted_Return'] = df.groupby('Name of the Security Held')['Sum of Security\\'s Percentage of the Total Net Assets'].diff() * df['Returns']\n",
    "\n",
    "# Somme mensuelle des GTt\n",
    "monthly_GTt = df.groupby(df['Period End Date'].dt.to_period('M'))['Weighted_Return'].sum()\n",
    "\n",
    "monthly_GTt"
   ]
  },
  {
   "cell_type": "code",
   "execution_count": 15,
   "metadata": {},
   "outputs": [
    {
     "data": {
      "text/html": [
       "<div>\n",
       "<style scoped>\n",
       "    .dataframe tbody tr th:only-of-type {\n",
       "        vertical-align: middle;\n",
       "    }\n",
       "\n",
       "    .dataframe tbody tr th {\n",
       "        vertical-align: top;\n",
       "    }\n",
       "\n",
       "    .dataframe thead th {\n",
       "        text-align: right;\n",
       "    }\n",
       "</style>\n",
       "<table border=\"1\" class=\"dataframe\">\n",
       "  <thead>\n",
       "    <tr style=\"text-align: right;\">\n",
       "      <th></th>\n",
       "      <th>Weighted_Return</th>\n",
       "    </tr>\n",
       "    <tr>\n",
       "      <th>Period End Date, as Reported</th>\n",
       "      <th></th>\n",
       "    </tr>\n",
       "  </thead>\n",
       "  <tbody>\n",
       "    <tr>\n",
       "      <th>2018-01</th>\n",
       "      <td>0.168122</td>\n",
       "    </tr>\n",
       "    <tr>\n",
       "      <th>2018-02</th>\n",
       "      <td>-0.188968</td>\n",
       "    </tr>\n",
       "    <tr>\n",
       "      <th>2018-03</th>\n",
       "      <td>0.297433</td>\n",
       "    </tr>\n",
       "    <tr>\n",
       "      <th>2018-04</th>\n",
       "      <td>0.329593</td>\n",
       "    </tr>\n",
       "    <tr>\n",
       "      <th>2018-05</th>\n",
       "      <td>-0.192429</td>\n",
       "    </tr>\n",
       "    <tr>\n",
       "      <th>...</th>\n",
       "      <td>...</td>\n",
       "    </tr>\n",
       "    <tr>\n",
       "      <th>2023-07</th>\n",
       "      <td>-0.099398</td>\n",
       "    </tr>\n",
       "    <tr>\n",
       "      <th>2023-08</th>\n",
       "      <td>0.390620</td>\n",
       "    </tr>\n",
       "    <tr>\n",
       "      <th>2023-09</th>\n",
       "      <td>0.180026</td>\n",
       "    </tr>\n",
       "    <tr>\n",
       "      <th>2023-10</th>\n",
       "      <td>0.242719</td>\n",
       "    </tr>\n",
       "    <tr>\n",
       "      <th>2023-11</th>\n",
       "      <td>0.000000</td>\n",
       "    </tr>\n",
       "  </tbody>\n",
       "</table>\n",
       "<p>71 rows × 1 columns</p>\n",
       "</div>"
      ],
      "text/plain": [
       "                                Weighted_Return\n",
       "\\tPeriod End Date, as Reported                 \n",
       "2018-01                                0.168122\n",
       "2018-02                               -0.188968\n",
       "2018-03                                0.297433\n",
       "2018-04                                0.329593\n",
       "2018-05                               -0.192429\n",
       "...                                         ...\n",
       "2023-07                               -0.099398\n",
       "2023-08                                0.390620\n",
       "2023-09                                0.180026\n",
       "2023-10                                0.242719\n",
       "2023-11                                0.000000\n",
       "\n",
       "[71 rows x 1 columns]"
      ]
     },
     "execution_count": 15,
     "metadata": {},
     "output_type": "execute_result"
    }
   ],
   "source": [
    "# Création du DataFrame avec monthly_GTt et Period End Date en index\n",
    "monthly_GTt_df = pd.DataFrame(monthly_GTt)\n",
    "monthly_GTt_df.index.name = '\tPeriod End Date, as Reported'\n",
    "\n",
    "monthly_GTt_df\n"
   ]
  },
  {
   "cell_type": "code",
   "execution_count": 14,
   "metadata": {},
   "outputs": [
    {
     "name": "stdout",
     "output_type": "stream",
     "text": [
      "Le DataFrame a été exporté vers Excel avec succès.\n"
     ]
    }
   ],
   "source": [
    "# Spécifiez le chemin et le nom de fichier pour sauvegarder le DataFrame au format Excel\n",
    "chemin_excel = \"chemin_vers_votre_fichier.xlsx\"\n",
    "\n",
    "# Utilisez la méthode to_excel() pour exporter le DataFrame vers un fichier Excel\n",
    "monthly_GTt_df.to_excel('/Users/dominicprenovost/Programmation/TP2-PF-management/Tp3.xlsx')\n",
    "\n",
    "print(\"Le DataFrame a été exporté vers Excel avec succès.\")\n"
   ]
  }
 ],
 "metadata": {
  "kernelspec": {
   "display_name": "HECFinance",
   "language": "python",
   "name": "python3"
  },
  "language_info": {
   "codemirror_mode": {
    "name": "ipython",
    "version": 3
   },
   "file_extension": ".py",
   "mimetype": "text/x-python",
   "name": "python",
   "nbconvert_exporter": "python",
   "pygments_lexer": "ipython3",
   "version": "3.11.4"
  }
 },
 "nbformat": 4,
 "nbformat_minor": 2
}
