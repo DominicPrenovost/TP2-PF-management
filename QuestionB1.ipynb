{
 "cells": [
  {
   "cell_type": "code",
   "execution_count": 1,
   "metadata": {},
   "outputs": [],
   "source": [
    "import pandas as pd\n",
    "import numpy as np\n",
    "from datetime import datetime\n",
    "from scipy.optimize import minimize\n",
    "from sklearn.preprocessing import StandardScaler\n",
    "from sklearn.linear_model import LinearRegression\n",
    "import statsmodels.api as sm"
   ]
  },
  {
   "cell_type": "code",
   "execution_count": 2,
   "metadata": {},
   "outputs": [],
   "source": [
    "df_monthly = pd.read_csv('/Users/dominicprenovost/Programmation/TP2-PF-management/48_Industry_Portfolios.CSV', header=6)\n",
    "df_monthly = df_monthly.rename(columns={'Unnamed: 0': 'Date'})\n",
    "\n",
    "df_48ind = df_monthly.iloc[:1171].copy()\n",
    "df_48ind['Date'] = pd.to_datetime(df_48ind['Date'], format='%Y%m')\n",
    "df_48ind.set_index('Date', inplace=True)\n",
    "df_48ind = df_48ind.apply(pd.to_numeric, errors='coerce')\n",
    "df_48ind.replace(-99.99, np.nan, inplace = True)\n",
    "df_48ind.replace(-999, np.nan, inplace = True)\n",
    "df_48ind.dropna(inplace = True)\n",
    "\n",
    "df_numfirm = df_monthly.iloc[2564-20:3735-20].copy()\n",
    "df_numfirm['Date'] = pd.to_datetime(df_numfirm['Date'], format='%Y%m')\n",
    "df_numfirm.set_index('Date', inplace=True)\n",
    "df_numfirm = df_numfirm.apply(pd.to_numeric, errors='coerce')\n",
    "\n",
    "df_avgsize = df_monthly.iloc[3739-22:4910-22].copy()\n",
    "df_avgsize['Date'] = pd.to_datetime(df_avgsize['Date'], format='%Y%m')\n",
    "df_avgsize.set_index('Date', inplace=True)\n",
    "df_avgsize = df_avgsize.apply(pd.to_numeric, errors='coerce')\n",
    "\n",
    "\n",
    "df_MC = df_numfirm.multiply(df_avgsize, axis=0)\n",
    "df_MC = df_MC.loc[df_48ind.index]\n",
    "\n",
    "\n",
    "df_BtoM = df_monthly.iloc[4890:4988].copy()\n",
    "df_BtoM = df_BtoM.apply(pd.to_numeric, errors='coerce')\n",
    "\n",
    "df_BtoM = df_BtoM.loc[df_BtoM.index.repeat(12)].reset_index(drop=True)\n",
    "\n",
    "df_BtoM['Date'] = pd.to_datetime(df_BtoM['Date'], format='%Y')\n",
    "\n",
    "df_BtoM = df_BtoM.drop('Date', axis=1)\n",
    "\n",
    "df_BtoM.replace(-99.99, np.nan, inplace = True)\n",
    "df_BtoM.replace(-999, np.nan, inplace = True)\n",
    "df_BtoM.dropna(inplace = True)\n",
    "\n",
    "df_BtoM = pd.DataFrame(data = df_BtoM.iloc[5:].values, index = df_48ind.index, columns = df_48ind.columns)\n",
    "\n",
    "\n",
    "df_mom = df_48ind.rolling(window=12).mean()\n",
    "\n",
    "df_mom.replace(-99.99, np.nan, inplace = True)\n",
    "df_mom.replace(-999, np.nan, inplace = True)\n",
    "df_mom.dropna(inplace = True)\n",
    "\n",
    "df_48ind = df_48ind.loc[df_mom.index]\n",
    "df_MC = df_MC.loc[df_mom.index]\n",
    "df_BtoM = df_BtoM.loc[df_mom.index]\n",
    "\n",
    "df_ret_shift = df_48ind.shift(-1)"
   ]
  },
  {
   "cell_type": "code",
   "execution_count": 55,
   "metadata": {},
   "outputs": [],
   "source": [
    "df_FF_5factors = pd.read_csv('/Users/dominicprenovost/Programmation/TP2-PF-management/F-F_Research_Data_5_Factors_2x3.CSV', header=2)\n",
    "df_FF_5factors = df_FF_5factors.rename(columns={'Unnamed: 0': 'Date'})\n",
    "df_FF_5 = df_FF_5factors.iloc[:727].copy()\n",
    "df_FF_5['Date'] = pd.to_datetime(df_FF_5['Date'], format='%Y%m')\n",
    "df_FF_5.set_index('Date', inplace=True)\n",
    "df_FF_5 = df_FF_5.apply(pd.to_numeric, errors='coerce')\n",
    "df_FF_5 = df_FF_5.loc[df_mom.index]"
   ]
  },
  {
   "cell_type": "code",
   "execution_count": 3,
   "metadata": {},
   "outputs": [
    {
     "name": "stderr",
     "output_type": "stream",
     "text": [
      "/var/folders/ns/nlrkcsjd7j70p9jvf2jl5t4c0000gn/T/ipykernel_2693/2608232528.py:1: DtypeWarning: Columns (0,1,2,3,4,5,6,7,8,9,10,11,12,13,14,15,16,17,18,19,20,21,22,23,24,25,26,27,28,29,30,31,32,33,34,35,36,37,38,39,40,41,42,43,44,45,46,47,48) have mixed types. Specify dtype option on import or set low_memory=False.\n",
      "  df_daily = pd.read_csv('/Users/dominicprenovost/Programmation/TP2-PF-management/48_Industry_Portfolios_Daily.csv', header=5)\n"
     ]
    }
   ],
   "source": [
    "df_daily = pd.read_csv('/Users/dominicprenovost/Programmation/TP2-PF-management/48_Industry_Portfolios_Daily.csv', header=5)\n",
    "df_daily = df_daily.rename(columns={'Unnamed: 0': 'Date'})\n",
    "\n",
    "df_daily_ret = df_daily.iloc[:25670].copy()\n",
    "df_daily_ret['Date'] = pd.to_datetime(df_daily_ret['Date'], format='%Y%m%d')\n",
    "df_daily_ret.set_index('Date', inplace=True)\n",
    "df_daily_ret = df_daily_ret.apply(pd.to_numeric, errors='coerce')\n",
    "df_daily_ret.replace(-99.99, np.nan, inplace = True)\n",
    "df_daily_ret.replace(-999, np.nan, inplace = True)\n",
    "df_daily_ret.dropna(inplace = True)\n",
    "\n",
    "\n",
    "df_FF_3 = pd.read_csv('/Users/dominicprenovost/Programmation/TP2-PF-management/F-F_Research_Data_Factors_daily.CSV', header=3)\n",
    "df_FF_3 = df_FF_3.rename(columns={'Unnamed: 0': 'Date'})\n",
    "df_FF_daily = df_FF_3.iloc[:25670].copy()\n",
    "df_FF_daily['Date'] = pd.to_datetime(df_FF_daily['Date'], format='%Y%m%d')\n",
    "df_FF_daily.set_index('Date', inplace=True)\n",
    "df_FF_daily = df_FF_daily.apply(pd.to_numeric, errors='coerce')\n",
    "df_FF_daily.replace(-99.99, np.nan, inplace = True)\n",
    "df_FF_daily.replace(-999, np.nan, inplace = True)\n",
    "df_FF_daily.dropna(inplace = True)\n",
    "df_FF_daily = df_FF_daily.loc[df_daily_ret.index]\n",
    "\n",
    "df_daily_ret_reshaped = df_daily_ret.iloc[231:].copy()"
   ]
  },
  {
   "cell_type": "code",
   "execution_count": 4,
   "metadata": {},
   "outputs": [],
   "source": [
    "########## boucle pour toutes les colonnes, avec une date de début et de fin, et pour chaque mois\n",
    "\n",
    "\n",
    "def calculate_betas(start_date, end_date, df_daily_ret_reshaped, df_FF_daily):\n",
    "    # Sélectionner les données pour la plage de dates spécifiée\n",
    "    df_daily_ret_selected = df_daily_ret_reshaped.loc[start_date:end_date]\n",
    "    df_FF_daily_selected = df_FF_daily.loc[start_date:end_date]\n",
    "\n",
    "    # Maintenant, vous pouvez utiliser df_daily_ret_selected et df_FF_daily_selected pour votre régression\n",
    "    Rft = df_FF_daily_selected['RF']\n",
    "    Rm_t = df_FF_daily_selected['Mkt-RF']\n",
    "\n",
    "    betas = []  # Create an empty list to store the betas\n",
    "\n",
    "    for column in df_daily_ret_selected.columns:\n",
    "        Ri_t = df_daily_ret_selected[column]\n",
    "\n",
    "        Y = Ri_t - Rft\n",
    "        X = Rm_t\n",
    "\n",
    "        X = sm.add_constant(X)\n",
    "\n",
    "        model = sm.OLS(Y, X)\n",
    "        results = model.fit()\n",
    "\n",
    "        betas.append(results.params[1])  # Add the betas to the list\n",
    "\n",
    "    # Convert the list of betas to a numpy array\n",
    "    betas = np.array(betas)\n",
    "\n",
    "    return betas\n",
    "\n",
    "# Get the first and last date in the data\n",
    "first_date = df_daily_ret_reshaped.index.min()\n",
    "last_date = df_daily_ret_reshaped.index.max()\n",
    "\n",
    "# Create a date range for each month in the data\n",
    "date_range = pd.date_range(start=first_date, end=last_date, freq='M')\n",
    "\n",
    "# Calculate the betas for each month\n",
    "monthly_betas = {}\n",
    "for date in date_range:\n",
    "    start_date = date - pd.DateOffset(months=12)\n",
    "    end_date = date\n",
    "    betas = calculate_betas(start_date, end_date, df_daily_ret, df_FF_daily)\n",
    "    monthly_betas[date] = betas\n",
    "    \n",
    "    # Convert the dictionary to a DataFrame\n",
    "df_monthly_betas = pd.DataFrame(monthly_betas.items(), columns=['Date', 'Betas'])\n",
    "\n",
    "# Convert the Betas column from numpy arrays to lists\n",
    "df_monthly_betas['Betas'] = df_monthly_betas['Betas'].apply(list)\n",
    "\n",
    "# Set the Date column as the index\n",
    "df_monthly_betas.set_index('Date', inplace=True)\n",
    "\n",
    "# Convert each item in the 'Betas' list to a separate column\n",
    "df_monthly_betas = df_monthly_betas['Betas'].apply(pd.Series)\n",
    "\n",
    "# Set the index of df_monthly_betas to match df_48ind\n",
    "df_monthly_betas.index = df_48ind.index\n",
    "\n",
    "# Set the column names of df_monthly_betas to match df_48ind\n",
    "df_monthly_betas.columns = df_48ind.columns"
   ]
  },
  {
   "cell_type": "code",
   "execution_count": 5,
   "metadata": {},
   "outputs": [],
   "source": [
    "def calculate_idiosyncratic_volatility(start_date, end_date, df_daily_ret_reshaped, df_FF_daily):\n",
    "    # Sélectionner les données pour la plage de dates spécifiée\n",
    "    df_daily_ret_selected = df_daily_ret_reshaped.loc[start_date:end_date]\n",
    "    df_FF_daily_selected = df_FF_daily.loc[start_date:end_date]\n",
    "\n",
    "    # Maintenant, vous pouvez utiliser df_daily_ret_selected et df_FF_daily_selected pour votre régression\n",
    "    Rft = df_FF_daily_selected['RF']\n",
    "    Rm_t = df_FF_daily_selected['Mkt-RF']\n",
    "    SMB = df_FF_daily_selected['SMB']\n",
    "    HML = df_FF_daily_selected['HML']\n",
    "\n",
    "    volatilities = []  # Create an empty list to store the volatilities\n",
    "\n",
    "    for column in df_daily_ret_selected.columns:\n",
    "        Ri_t = df_daily_ret_selected[column]\n",
    "\n",
    "        Y = Ri_t - Rft\n",
    "        X = pd.concat([Rm_t, SMB, HML], axis=1)\n",
    "\n",
    "        X = sm.add_constant(X)\n",
    "\n",
    "        model = sm.OLS(Y, X)\n",
    "        results = model.fit()\n",
    "\n",
    "        residuals = results.resid\n",
    "        volatility = np.std(residuals)\n",
    "\n",
    "        volatilities.append(volatility)  # Add the volatility to the list\n",
    "\n",
    "    # Convert the list of volatilities to a numpy array\n",
    "    volatilities = np.array(volatilities)\n",
    "\n",
    "    return volatilities\n",
    "\n",
    "# Get the first and last date in the data\n",
    "first_date = df_daily_ret_reshaped.index.min()\n",
    "last_date = df_daily_ret_reshaped.index.max()\n",
    "\n",
    "# Create a date range for each month in the data\n",
    "date_range = pd.date_range(start=first_date, end=last_date, freq='M')\n",
    "\n",
    "# Calculate the volatilities for each month\n",
    "monthly_volatilities = {}\n",
    "for date in date_range:\n",
    "    start_date = date\n",
    "    end_date = date + pd.DateOffset(months=1) - pd.DateOffset(days=1)\n",
    "    volatilities = calculate_idiosyncratic_volatility(start_date, end_date, df_daily_ret, df_FF_daily)\n",
    "    monthly_volatilities[date] = volatilities\n",
    "    \n",
    "        # Convert the dictionary to a DataFrame\n",
    "df_monthly_vol = pd.DataFrame(monthly_volatilities.items(), columns=['Date', 'Betas'])\n",
    "\n",
    "# Convert the Betas column from numpy arrays to lists\n",
    "df_monthly_vol['Betas'] = df_monthly_vol['Betas'].apply(list)\n",
    "\n",
    "# Set the Date column as the index\n",
    "df_monthly_vol.set_index('Date', inplace=True)\n",
    "\n",
    "# Convert each item in the 'Betas' list to a separate column\n",
    "df_monthly_vol = df_monthly_vol['Betas'].apply(pd.Series)\n",
    "\n",
    "# Set the index of df_monthly_vol to match df_48ind\n",
    "df_monthly_vol.index = df_48ind.index\n",
    "\n",
    "# Set the column names of df_monthly_vol to match df_48ind\n",
    "df_monthly_vol.columns = df_48ind.columns"
   ]
  },
  {
   "cell_type": "code",
   "execution_count": 6,
   "metadata": {},
   "outputs": [],
   "source": [
    "def select_extreme_values(row, num_values=5):\n",
    "    sorted_row = row.sort_values(ascending=False)\n",
    "    top_values = sorted_row.head(num_values)\n",
    "    bottom_values = sorted_row.tail(num_values)\n",
    "    return top_values, bottom_values"
   ]
  },
  {
   "cell_type": "code",
   "execution_count": 7,
   "metadata": {},
   "outputs": [],
   "source": [
    "top_bottom_values = df_MC.apply(select_extreme_values, axis=1)"
   ]
  },
  {
   "cell_type": "code",
   "execution_count": 12,
   "metadata": {},
   "outputs": [],
   "source": [
    "def get_total_returns_ew(top_bottom_values, df_ret, num_positions):\n",
    "    returns = []\n",
    "    weight = 1.0 / num_positions\n",
    "    for date, values in top_bottom_values.items():\n",
    "        top_indices, bottom_indices = values[0].index, values[1].index\n",
    "        top_returns = df_ret.loc[date, top_indices] * weight\n",
    "        bottom_returns = df_ret.loc[date, bottom_indices] * weight * -1  # short positions have negative weight\n",
    "        total_return = top_returns.sum() + bottom_returns.sum()\n",
    "        returns.append(total_return)\n",
    "    return returns\n",
    "\n",
    "ret_ew = get_total_returns_ew(top_bottom_values, df_ret_shift, 5)"
   ]
  },
  {
   "cell_type": "code",
   "execution_count": 13,
   "metadata": {},
   "outputs": [],
   "source": [
    "def get_total_returns_vw(top_bottom_values, df_ret):\n",
    "    returns = []\n",
    "    for date, values in top_bottom_values.items():\n",
    "        top_indices, bottom_indices = values[0].index, values[1].index\n",
    "        top_values = df_ret.loc[date, top_indices]\n",
    "        bottom_values = df_ret.loc[date, bottom_indices]\n",
    "        \n",
    "        top_weights = top_values.abs() / top_values.abs().sum()\n",
    "        bottom_weights = bottom_values.abs() / bottom_values.abs().sum()\n",
    "        \n",
    "        top_returns = top_values * top_weights\n",
    "        bottom_returns = bottom_values * bottom_weights * -1  # short positions have negative weight\n",
    "        \n",
    "        total_return = top_returns.sum() + bottom_returns.sum()\n",
    "        returns.append(total_return)\n",
    "    return returns\n",
    "\n",
    "ret_vw = get_total_returns_vw(top_bottom_values, df_ret_shift)"
   ]
  },
  {
   "cell_type": "code",
   "execution_count": 19,
   "metadata": {},
   "outputs": [],
   "source": [
    "def get_returns(caracteristic, df_ret_shift, num_positions):\n",
    "    \n",
    "    top_bottom_values = caracteristic.apply(select_extreme_values, axis=1)\n",
    "    \n",
    "    # Part 1: Get returns\n",
    "    returns_ew = []\n",
    "    weight = 1.0 / num_positions\n",
    "    for date, values in top_bottom_values.items():\n",
    "        top_indices, bottom_indices = values[0].index, values[1].index\n",
    "        top_returns = df_ret_shift.loc[date, top_indices] * weight\n",
    "        bottom_returns = df_ret_shift.loc[date, bottom_indices] * weight * -1  # short positions have negative weight\n",
    "        returns_ew.append((top_returns.sum(), bottom_returns.sum()))\n",
    "\n",
    "    # Part 2: Get total returns\n",
    "    total_returns_ew = [sum(x) for x in returns_ew]\n",
    "\n",
    "    # Part 3: Get value-weighted returns\n",
    "    returns_vw = []\n",
    "    for date, values in top_bottom_values.items():\n",
    "        top_indices, bottom_indices = values[0].index, values[1].index\n",
    "        top_values = df_ret_shift.loc[date, top_indices]\n",
    "        bottom_values = df_ret_shift.loc[date, bottom_indices]\n",
    "        top_weights = top_values.abs() / top_values.abs().sum()\n",
    "        bottom_weights = bottom_values.abs() / bottom_values.abs().sum()\n",
    "        top_returns = top_values * top_weights\n",
    "        bottom_returns = bottom_values * bottom_weights * -1  # short positions have negative weight\n",
    "        returns_vw.append((top_returns.sum(), bottom_returns.sum()))\n",
    "\n",
    "    # Part 4: Get total value-weighted returns\n",
    "    total_returns_vw = [sum(x) for x in returns_vw]\n",
    "\n",
    "    return total_returns_ew, total_returns_vw\n",
    "\n",
    "total_returns_ew, total_returns_vw = get_returns(df_MC, df_ret_shift, 5)"
   ]
  },
  {
   "cell_type": "code",
   "execution_count": 28,
   "metadata": {},
   "outputs": [
    {
     "data": {
      "text/plain": [
       "0.01723358778625954"
      ]
     },
     "execution_count": 28,
     "metadata": {},
     "output_type": "execute_result"
    }
   ],
   "source": [
    "# Assuming rf is a pandas DataFrame with a DateTimeIndex\n",
    "monthly_rf = df_FF_daily['RF'].resample('M').mean().mean()\n",
    "\n",
    "monthly_rf"
   ]
  },
  {
   "cell_type": "code",
   "execution_count": 29,
   "metadata": {},
   "outputs": [
    {
     "ename": "AttributeError",
     "evalue": "'list' object has no attribute 'mean'",
     "output_type": "error",
     "traceback": [
      "\u001b[0;31m---------------------------------------------------------------------------\u001b[0m",
      "\u001b[0;31mAttributeError\u001b[0m                            Traceback (most recent call last)",
      "Cell \u001b[0;32mIn[29], line 1\u001b[0m\n\u001b[0;32m----> 1\u001b[0m (\u001b[43mtotal_returns_ew\u001b[49m\u001b[38;5;241;43m.\u001b[39;49m\u001b[43mmean\u001b[49m() \u001b[38;5;241m-\u001b[39m monthly_rf) \u001b[38;5;241m/\u001b[39m total_returns_ew\u001b[38;5;241m.\u001b[39mstd()\n",
      "\u001b[0;31mAttributeError\u001b[0m: 'list' object has no attribute 'mean'"
     ]
    }
   ],
   "source": [
    "(total_returns_ew.mean() - monthly_rf) / total_returns_ew.std()"
   ]
  },
  {
   "cell_type": "code",
   "execution_count": 30,
   "metadata": {},
   "outputs": [],
   "source": [
    "total_returns_ew_series = pd.Series(total_returns_ew)\n",
    "sharpe_ratio = (total_returns_ew_series.mean() - monthly_rf) / total_returns_ew_series.std()"
   ]
  },
  {
   "cell_type": "code",
   "execution_count": 39,
   "metadata": {},
   "outputs": [
    {
     "data": {
      "text/plain": [
       "-0.040347861603265936"
      ]
     },
     "execution_count": 39,
     "metadata": {},
     "output_type": "execute_result"
    }
   ],
   "source": [
    "sharpe_ratio"
   ]
  },
  {
   "cell_type": "code",
   "execution_count": 38,
   "metadata": {},
   "outputs": [
    {
     "data": {
      "text/plain": [
       "-0.19545097909060735"
      ]
     },
     "execution_count": 38,
     "metadata": {},
     "output_type": "execute_result"
    }
   ],
   "source": [
    "total_returns_ew_series.mean()-monthly_rf"
   ]
  },
  {
   "cell_type": "code",
   "execution_count": 36,
   "metadata": {},
   "outputs": [
    {
     "data": {
      "text/plain": [
       "4.844147157349887"
      ]
     },
     "execution_count": 36,
     "metadata": {},
     "output_type": "execute_result"
    }
   ],
   "source": [
    "total_returns_ew_series.std()"
   ]
  },
  {
   "cell_type": "code",
   "execution_count": 40,
   "metadata": {},
   "outputs": [],
   "source": [
    "def get_returns(caracteristic, df_ret_shift, num_positions, weight_type='ew'):\n",
    "    \n",
    "    top_bottom_values = caracteristic.apply(select_extreme_values, axis=1)\n",
    "    \n",
    "    returns = []\n",
    "    total_returns = []\n",
    "    \n",
    "    for date, values in top_bottom_values.items():\n",
    "        top_indices, bottom_indices = values[0].index, values[1].index\n",
    "        \n",
    "        if weight_type == 'ew':\n",
    "            weight = 1.0 / num_positions\n",
    "            top_returns = df_ret_shift.loc[date, top_indices] * weight\n",
    "            bottom_returns = df_ret_shift.loc[date, bottom_indices] * weight * -1  # short positions have negative weight\n",
    "        elif weight_type == 'vw':\n",
    "            top_values = df_ret_shift.loc[date, top_indices]\n",
    "            bottom_values = df_ret_shift.loc[date, bottom_indices]\n",
    "            top_weights = top_values.abs() / top_values.abs().sum()\n",
    "            bottom_weights = bottom_values.abs() / bottom_values.abs().sum()\n",
    "            top_returns = top_values * top_weights\n",
    "            bottom_returns = bottom_values * bottom_weights * -1  # short positions have negative weight\n",
    "        else:\n",
    "            raise ValueError(\"weight_type must be either 'ew' or 'vw'\")\n",
    "        \n",
    "        returns.append((top_returns.sum(), bottom_returns.sum()))\n",
    "    \n",
    "    total_returns = [sum(x) for x in returns]\n",
    "\n",
    "    return total_returns\n",
    "\n",
    "total_returns_ew = get_returns(df_MC, df_ret_shift, 5, 'ew')\n",
    "total_returns_vw = get_returns(df_MC, df_ret_shift, 5, 'vw')"
   ]
  },
  {
   "cell_type": "code",
   "execution_count": 66,
   "metadata": {},
   "outputs": [],
   "source": [
    "def get_returns(caracteristic, df_ret_shift, num_positions, weight_type='ew'):\n",
    "    \n",
    "    top_bottom_values = caracteristic.apply(select_extreme_values, axis=1)\n",
    "    \n",
    "    returns = []\n",
    "    total_returns = []\n",
    "    \n",
    "    for date, values in top_bottom_values.items():\n",
    "        top_indices, bottom_indices = values[0].index, values[1].index\n",
    "        \n",
    "        if weight_type == 'ew':\n",
    "            weight = 1.0 / num_positions\n",
    "            top_returns = df_ret_shift.loc[date, top_indices] * weight\n",
    "            bottom_returns = df_ret_shift.loc[date, bottom_indices] * weight * -1  # short positions have negative weight\n",
    "        elif weight_type == 'vw':\n",
    "            top_values = df_ret_shift.loc[date, top_indices]\n",
    "            bottom_values = df_ret_shift.loc[date, bottom_indices]\n",
    "            top_weights = top_values.abs() / top_values.abs().sum()\n",
    "            bottom_weights = bottom_values.abs() / bottom_values.abs().sum()\n",
    "            top_returns = top_values * top_weights\n",
    "            bottom_returns = bottom_values * bottom_weights * -1  # short positions have negative weight\n",
    "        else:\n",
    "            raise ValueError(\"weight_type must be either 'ew' or 'vw'\")\n",
    "        \n",
    "        returns.append((top_returns.sum(), bottom_returns.sum()))\n",
    "    \n",
    "    total_returns = [sum(x) for x in returns]\n",
    "\n",
    "    return total_returns\n",
    "\n",
    "total_returns_ew = get_returns(df_BtoM, df_ret_shift, 5, 'ew')\n",
    "total_returns_vw = get_returns(df_BtoM, df_ret_shift, 5, 'vw')\n",
    "\n",
    "# Convert lists to pandas Series\n",
    "total_returns_ew_series = pd.Series(total_returns_ew)\n",
    "total_returns_vw_series = pd.Series(total_returns_vw)\n",
    "\n",
    "# Calculate Sharpe ratios\n",
    "sharpe_ratio_ew = (total_returns_ew_series.mean() - monthly_rf) / total_returns_ew_series.std()\n",
    "sharpe_ratio_vw = (total_returns_vw_series.mean() - monthly_rf) / total_returns_vw_series.std()"
   ]
  },
  {
   "cell_type": "code",
   "execution_count": 60,
   "metadata": {},
   "outputs": [
    {
     "data": {
      "text/plain": [
       "((644, 48), (644, 48), (644, 48), (644, 48), (644, 48))"
      ]
     },
     "execution_count": 60,
     "metadata": {},
     "output_type": "execute_result"
    }
   ],
   "source": [
    "df_MC.shape, df_BtoM.shape, df_mom.shape, df_monthly_betas.shape, df_monthly_vol.shape"
   ]
  },
  {
   "cell_type": "code",
   "execution_count": 71,
   "metadata": {},
   "outputs": [
    {
     "name": "stdout",
     "output_type": "stream",
     "text": [
      "                            OLS Regression Results                            \n",
      "==============================================================================\n",
      "Dep. Variable:                returns   R-squared:                       0.008\n",
      "Model:                            OLS   Adj. R-squared:                  0.003\n",
      "Method:                 Least Squares   F-statistic:                     1.661\n",
      "Date:                Tue, 26 Mar 2024   Prob (F-statistic):              0.174\n",
      "Time:                        16:17:32   Log-Likelihood:                -2212.7\n",
      "No. Observations:                 644   AIC:                             4433.\n",
      "Df Residuals:                     640   BIC:                             4451.\n",
      "Df Model:                           3                                         \n",
      "Covariance Type:            nonrobust                                         \n",
      "==============================================================================\n",
      "                 coef    std err          t      P>|t|      [0.025      0.975]\n",
      "------------------------------------------------------------------------------\n",
      "const         -0.5161      0.302     -1.709      0.088      -1.109       0.077\n",
      "Mkt-RF         0.1029      0.069      1.496      0.135      -0.032       0.238\n",
      "SMB            0.0213      0.102      0.210      0.834      -0.178       0.221\n",
      "HML            0.1788      0.098      1.817      0.070      -0.014       0.372\n",
      "==============================================================================\n",
      "Omnibus:                       18.435   Durbin-Watson:                   1.943\n",
      "Prob(Omnibus):                  0.000   Jarque-Bera (JB):               40.042\n",
      "Skew:                           0.008   Prob(JB):                     2.02e-09\n",
      "Kurtosis:                       4.221   Cond. No.                         4.88\n",
      "==============================================================================\n",
      "\n",
      "Notes:\n",
      "[1] Standard Errors assume that the covariance matrix of the errors is correctly specified.\n",
      "                            OLS Regression Results                            \n",
      "==============================================================================\n",
      "Dep. Variable:                returns   R-squared:                       0.008\n",
      "Model:                            OLS   Adj. R-squared:                  0.002\n",
      "Method:                 Least Squares   F-statistic:                     1.285\n",
      "Date:                Tue, 26 Mar 2024   Prob (F-statistic):              0.275\n",
      "Time:                        16:17:32   Log-Likelihood:                -2212.6\n",
      "No. Observations:                 644   AIC:                             4435.\n",
      "Df Residuals:                     639   BIC:                             4458.\n",
      "Df Model:                           4                                         \n",
      "Covariance Type:            nonrobust                                         \n",
      "==============================================================================\n",
      "                 coef    std err          t      P>|t|      [0.025      0.975]\n",
      "------------------------------------------------------------------------------\n",
      "const         -0.4949      0.307     -1.614      0.107      -1.097       0.107\n",
      "Mkt-RF         0.1003      0.069      1.452      0.147      -0.035       0.236\n",
      "SMB            0.0057      0.109      0.052      0.958      -0.208       0.219\n",
      "HML            0.1835      0.099      1.850      0.065      -0.011       0.378\n",
      "RMW           -0.0575      0.143     -0.404      0.686      -0.337       0.222\n",
      "==============================================================================\n",
      "Omnibus:                       18.719   Durbin-Watson:                   1.942\n",
      "Prob(Omnibus):                  0.000   Jarque-Bera (JB):               41.014\n",
      "Skew:                           0.007   Prob(JB):                     1.24e-09\n",
      "Kurtosis:                       4.236   Cond. No.                         5.02\n",
      "==============================================================================\n",
      "\n",
      "Notes:\n",
      "[1] Standard Errors assume that the covariance matrix of the errors is correctly specified.\n",
      "                            OLS Regression Results                            \n",
      "==============================================================================\n",
      "Dep. Variable:                returns   R-squared:                       0.008\n",
      "Model:                            OLS   Adj. R-squared:                 -0.001\n",
      "Method:                 Least Squares   F-statistic:                    0.8901\n",
      "Date:                Tue, 26 Mar 2024   Prob (F-statistic):              0.502\n",
      "Time:                        16:17:32   Log-Likelihood:                -2212.5\n",
      "No. Observations:                 644   AIC:                             4439.\n",
      "Df Residuals:                     637   BIC:                             4470.\n",
      "Df Model:                           6                                         \n",
      "Covariance Type:            nonrobust                                         \n",
      "==============================================================================\n",
      "                 coef    std err          t      P>|t|      [0.025      0.975]\n",
      "------------------------------------------------------------------------------\n",
      "const         -0.5117      0.499     -1.025      0.306      -1.492       0.469\n",
      "Mkt-RF         0.0910      0.073      1.252      0.211      -0.052       0.234\n",
      "SMB            0.0044      0.109      0.040      0.968      -0.210       0.218\n",
      "HML            0.2236      0.135      1.661      0.097      -0.041       0.488\n",
      "RMW           -0.0646      0.144     -0.449      0.653      -0.347       0.218\n",
      "CMA           -0.0943      0.210     -0.450      0.653      -0.506       0.318\n",
      "RF             0.1129      1.071      0.105      0.916      -1.990       2.216\n",
      "==============================================================================\n",
      "Omnibus:                       18.358   Durbin-Watson:                   1.943\n",
      "Prob(Omnibus):                  0.000   Jarque-Bera (JB):               39.775\n",
      "Skew:                           0.010   Prob(JB):                     2.31e-09\n",
      "Kurtosis:                       4.217   Cond. No.                         18.9\n",
      "==============================================================================\n",
      "\n",
      "Notes:\n",
      "[1] Standard Errors assume that the covariance matrix of the errors is correctly specified.\n"
     ]
    }
   ],
   "source": [
    "total_returns_ew_df = pd.DataFrame(total_returns_ew, columns=['returns'])\n",
    "total_returns_vw_df = pd.DataFrame(total_returns_vw, columns=['returns'])\n",
    "\n",
    "# Réinitialisez les indices\n",
    "total_returns_ew_df = total_returns_vw_df.reset_index(drop=True)\n",
    "df_FF_5 = df_FF_5.reset_index(drop=True)\n",
    "\n",
    "# Régression avec les 3 premiers facteurs\n",
    "factors_3 = sm.add_constant(df_FF_5.iloc[:, :3])\n",
    "model_3 = sm.OLS(total_returns_ew_df, factors_3)\n",
    "results_3 = model_3.fit()\n",
    "print(results_3.summary())\n",
    "\n",
    "# Régression avec les 4 premiers facteurs\n",
    "factors_4 = sm.add_constant(df_FF_5.iloc[:, :4])\n",
    "model_4 = sm.OLS(total_returns_ew_df, factors_4)\n",
    "results_4 = model_4.fit()\n",
    "print(results_4.summary())\n",
    "\n",
    "# Régression avec les 5 facteurs\n",
    "factors_5 = sm.add_constant(df_FF_5)\n",
    "model_5 = sm.OLS(total_returns_ew_df, factors_5)\n",
    "results_5 = model_5.fit()\n",
    "print(results_5.summary())"
   ]
  },
  {
   "cell_type": "code",
   "execution_count": 72,
   "metadata": {},
   "outputs": [
    {
     "name": "stdout",
     "output_type": "stream",
     "text": [
      "Constant for 3-factor regression:  -0.5161137241095913\n",
      "Constant for 4-factor regression:  -0.4949480159502111\n",
      "Constant for 5-factor regression:  -0.5117312632146896\n"
     ]
    }
   ],
   "source": [
    "# Imprimez la constante de chaque régression\n",
    "print(\"Constant for 3-factor regression: \", results_3.params['const'])\n",
    "print(\"Constant for 4-factor regression: \", results_4.params['const'])\n",
    "print(\"Constant for 5-factor regression: \", results_5.params['const'])"
   ]
  }
 ],
 "metadata": {
  "kernelspec": {
   "display_name": "HECFinance",
   "language": "python",
   "name": "python3"
  },
  "language_info": {
   "codemirror_mode": {
    "name": "ipython",
    "version": 3
   },
   "file_extension": ".py",
   "mimetype": "text/x-python",
   "name": "python",
   "nbconvert_exporter": "python",
   "pygments_lexer": "ipython3",
   "version": "3.11.4"
  }
 },
 "nbformat": 4,
 "nbformat_minor": 2
}
