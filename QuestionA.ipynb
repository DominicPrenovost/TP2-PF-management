{
 "cells": [
  {
   "cell_type": "code",
   "execution_count": 18,
   "metadata": {},
   "outputs": [],
   "source": [
    "import pandas as pd\n",
    "import numpy as np\n",
    "from datetime import datetime\n",
    "from scipy.optimize import minimize"
   ]
  },
  {
   "cell_type": "code",
   "execution_count": 43,
   "metadata": {},
   "outputs": [],
   "source": [
    "df = pd.read_csv('/Users/dominicprenovost/Programmation/TP2-PF-management/10_Industry_Portfolios.CSV', header=6)\n",
    "df = df.rename(columns={'Unnamed: 0': 'Date'})\n",
    "\n",
    "df_10ind = df.iloc[:1171].copy()\n",
    "df_10ind['Date'] = pd.to_datetime(df_10ind['Date'], format='%Y%m')\n",
    "df_10ind.set_index('Date', inplace=True)\n",
    "df_10ind = df_10ind.apply(pd.to_numeric, errors='coerce')\n",
    "\n",
    "df_numfirm = df.iloc[2564-20:3735-20].copy()\n",
    "df_numfirm['Date'] = pd.to_datetime(df_numfirm['Date'], format='%Y%m')\n",
    "df_numfirm.set_index('Date', inplace=True)\n",
    "df_numfirm = df_numfirm.apply(pd.to_numeric, errors='coerce')\n",
    "\n",
    "\n",
    "df_avgsize = df.iloc[3739-22:4910-22].copy()\n",
    "df_avgsize['Date'] = pd.to_datetime(df_avgsize['Date'], format='%Y%m')\n",
    "df_avgsize.set_index('Date', inplace=True)\n",
    "df_avgsize = df_avgsize.apply(pd.to_numeric, errors='coerce')"
   ]
  },
  {
   "cell_type": "code",
   "execution_count": 20,
   "metadata": {},
   "outputs": [],
   "source": [
    "def rolling_pf_SR(returns, rf, window_size):\n",
    "    num_assets = returns.shape[1]\n",
    "    pf_weights = pd.DataFrame(index=returns.index, columns=returns.columns)\n",
    "\n",
    "    for i in range(len(returns)):\n",
    "        if i < window_size:\n",
    "            continue\n",
    "        window = returns.iloc[i-window_size:i]\n",
    "        \n",
    "        z_bar = np.array(window.mean())\n",
    "        sigma = window.cov()\n",
    "        \n",
    "        def negativeSR(w):\n",
    "            R = np.sum(z_bar * w)\n",
    "            V = np.sqrt(np.dot(w.T, np.dot(sigma, w)))\n",
    "            SR = (R - rf) / V\n",
    "            return -SR\n",
    "\n",
    "        initial_weights = np.ones(num_assets) / num_assets\n",
    "        constraints = ({'type': 'eq', 'fun': lambda w: np.sum(w) - 1})\n",
    "\n",
    "        result = minimize(negativeSR, initial_weights, method='SLSQP', constraints=constraints)\n",
    "        pf_weights.iloc[i] = result.x\n",
    "\n",
    "    return pf_weights.dropna()\n",
    "\n"
   ]
  },
  {
   "cell_type": "code",
   "execution_count": 21,
   "metadata": {},
   "outputs": [],
   "source": [
    "def rolling_pf_SR_NS(returns, rf, window_size):\n",
    "    num_assets = returns.shape[1]\n",
    "    pf_weights = pd.DataFrame(index=returns.index, columns=returns.columns)\n",
    "\n",
    "    for i in range(len(returns)):\n",
    "        if i < window_size:\n",
    "            continue\n",
    "        window = returns.iloc[i-window_size:i]\n",
    "        \n",
    "        z_bar = np.array(window.mean())\n",
    "        sigma = window.cov()\n",
    "        \n",
    "        def negativeSR(w):\n",
    "            R = np.sum(z_bar * w)\n",
    "            V = np.sqrt(np.dot(w.T, np.dot(sigma, w)))\n",
    "            SR = (R - rf) / V\n",
    "            return -SR\n",
    "\n",
    "        initial_weights = np.ones(num_assets) / num_assets\n",
    "        bounds = [(0, None) for _ in range(num_assets)]\n",
    "        constraints = ({'type': 'eq', 'fun': lambda w: np.sum(w) - 1})\n",
    "\n",
    "        result = minimize(negativeSR, initial_weights, method='SLSQP', bounds=bounds, constraints=constraints)\n",
    "        pf_weights.iloc[i] = result.x\n",
    "\n",
    "    return pf_weights.dropna()"
   ]
  },
  {
   "cell_type": "code",
   "execution_count": 22,
   "metadata": {},
   "outputs": [],
   "source": [
    "def rolling_pf_VAR(returns, window_size):\n",
    "\n",
    "    pf_weights = pd.DataFrame(index=returns.index, columns=returns.columns)\n",
    "\n",
    "    for i in range(len(returns)):\n",
    "        if i < window_size:\n",
    "            continue\n",
    "        window = returns.iloc[i-window_size:i]\n",
    "        \n",
    "        # Calculer les poids en utilisant la formule\n",
    "        var = window.var()  # Calcule l'écart-type de chaque actif sur la fenêtre\n",
    "        weights = (1 / var) / np.sum(1 / var)  # Calculer les poids en utilisant la formule\n",
    "        \n",
    "        # Remplir les poids dans le DataFrame\n",
    "        pf_weights.iloc[i] = weights\n",
    "        \n",
    "    return pf_weights.dropna()"
   ]
  },
  {
   "cell_type": "code",
   "execution_count": 23,
   "metadata": {},
   "outputs": [],
   "source": [
    "def rolling_pf_VOL(returns, window_size):\n",
    "\n",
    "    pf_weights = pd.DataFrame(index=returns.index, columns=returns.columns)\n",
    "\n",
    "    for i in range(len(returns)):\n",
    "        if i < window_size:\n",
    "            continue\n",
    "        window = returns.iloc[i-window_size:i]\n",
    "        \n",
    "        # Calculer les poids en utilisant la formule\n",
    "        std = window.std()  # Calcule l'écart-type de chaque actif sur la fenêtre\n",
    "        weights = (1 / std) / np.sum(1 / std)  # Calculer les poids en utilisant la formule\n",
    "        \n",
    "        # Remplir les poids dans le DataFrame\n",
    "        pf_weights.iloc[i] = weights\n",
    "        \n",
    "    return pf_weights.dropna()"
   ]
  },
  {
   "cell_type": "code",
   "execution_count": 24,
   "metadata": {},
   "outputs": [],
   "source": [
    "def rolling_pf_SameWeights(returns, window_size):\n",
    "\n",
    "    pf_weights = pd.DataFrame(index=returns.index, columns=returns.columns)\n",
    "\n",
    "    for i in range(len(returns)):\n",
    "        if i < window_size:\n",
    "            continue\n",
    "        window = returns.iloc[i-window_size:i]\n",
    "        \n",
    "        weights = (1 / window.shape[1])\n",
    "        \n",
    "        # Remplir les poids dans le DataFrame\n",
    "        pf_weights.iloc[i] = weights\n",
    "        \n",
    "    return pf_weights.dropna()"
   ]
  },
  {
   "cell_type": "code",
   "execution_count": 25,
   "metadata": {},
   "outputs": [],
   "source": [
    "#def rolling_pf_MarketCap(returns, window_size):"
   ]
  },
  {
   "cell_type": "code",
   "execution_count": 26,
   "metadata": {},
   "outputs": [],
   "source": [
    "def rolling_pf_minVAR(returns, window_size):\n",
    "    num_assets = returns.shape[1]\n",
    "    pf_weights = pd.DataFrame(index=returns.index, columns=returns.columns)\n",
    "\n",
    "    for i in range(len(returns)):\n",
    "        if i < window_size:\n",
    "            continue\n",
    "        window = returns.iloc[i-window_size:i]\n",
    "        \n",
    "        z_bar = np.array(window.mean())\n",
    "        sigma = window.cov()\n",
    "        \n",
    "        def min_volatility(w):\n",
    "            w = np.array(w)\n",
    "            V = np.sqrt(np.dot(w.T, np.dot(sigma, w)))\n",
    "            return V\n",
    "\n",
    "        initial_weights = np.ones(num_assets) / num_assets\n",
    "        constraints = ({'type': 'eq', 'fun': lambda w: np.sum(w) - 1})\n",
    "\n",
    "        result = minimize(min_volatility, initial_weights, method='SLSQP', constraints=constraints)\n",
    "        pf_weights.iloc[i] = result.x\n",
    "\n",
    "    return pf_weights.dropna()"
   ]
  }
 ],
 "metadata": {
  "kernelspec": {
   "display_name": "HECFinance",
   "language": "python",
   "name": "python3"
  },
  "language_info": {
   "codemirror_mode": {
    "name": "ipython",
    "version": 3
   },
   "file_extension": ".py",
   "mimetype": "text/x-python",
   "name": "python",
   "nbconvert_exporter": "python",
   "pygments_lexer": "ipython3",
   "version": "3.11.4"
  }
 },
 "nbformat": 4,
 "nbformat_minor": 2
}
