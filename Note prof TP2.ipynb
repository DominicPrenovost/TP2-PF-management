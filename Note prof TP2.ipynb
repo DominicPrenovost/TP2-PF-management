{
 "cells": [
  {
   "cell_type": "markdown",
   "metadata": {},
   "source": [
    "## Partie A"
   ]
  },
  {
   "cell_type": "markdown",
   "metadata": {},
   "source": [
    "le benchmark peut etre le pf 5 ou 6, c'est une gestion passive, on doit comparer"
   ]
  },
  {
   "cell_type": "markdown",
   "metadata": {},
   "source": [
    "## Partie B"
   ]
  },
  {
   "cell_type": "markdown",
   "metadata": {},
   "source": [
    "1,2. les données commencent July 1926, donc on commence à July 1927, pcq on doit prendre les 12 derniers mois\n",
    "\n",
    "Book to market = Book equity / market equity -- data dans le CSV\n",
    "\n",
    "le ratio est annuel, donc on prend ce taux pour ces mois. -- de juil à juin inclut\n",
    "\n",
    "3. momentunm : rendement moyen pour les 12 derniers mois, pourrait être aussi rendement cumulatif\n",
    "\n",
    "4. "
   ]
  }
 ],
 "metadata": {
  "language_info": {
   "name": "python"
  }
 },
 "nbformat": 4,
 "nbformat_minor": 2
}
